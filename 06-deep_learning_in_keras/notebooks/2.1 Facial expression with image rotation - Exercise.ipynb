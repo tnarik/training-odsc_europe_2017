{
 "cells": [
  {
   "cell_type": "code",
   "execution_count": 3,
   "metadata": {
    "ExecuteTime": {
     "end_time": "2017-10-13T12:12:02.518763Z",
     "start_time": "2017-10-13T12:12:02.477504Z"
    },
    "collapsed": true
   },
   "outputs": [],
   "source": [
    "from keras.preprocessing.image import ImageDataGenerator\n",
    "from keras.models import Sequential\n",
    "from tensorflow.contrib.layers import fully_connected, convolution2d, flatten, batch_norm, max_pool2d, dropout\n",
    "from keras.layers.convolutional import Convolution2D\n",
    "from keras.layers.convolutional import MaxPooling2D\n",
    "from keras.layers import Dense\n",
    "from keras.layers import Dropout\n",
    "from keras.layers import Flatten\n",
    "import keras\n",
    "import os\n",
    "from keras.callbacks import ModelCheckpoint, Callback, EarlyStopping, TensorBoard\n",
    "import tensorflow as tf\n",
    "\n",
    "basedir = '..'\n",
    "name = 'layer'\n",
    "logs = '.'\n",
    "logs = os.path.join(basedir, 'logs')\n",
    "\n",
    "# Fellows, Theano development stopped yesterday. RIP Theano! You are one of our first Deep Learning Toolkits!\n",
    "\n",
    "tbCallBack = TensorBoard(\n",
    "    log_dir=logs, histogram_freq=0, write_graph=True, write_images=True)\n",
    "img_width, img_height = 48, 48\n",
    "epochs = 1\n",
    "batch_size = 50\n",
    "# train_feature, train_target, validation_data=(test_feature, test_target)\n",
    "\n",
    "emotions = {\n",
    "    0: 'Angry',\n",
    "    1: 'Disgust',\n",
    "    2: 'Fear',\n",
    "    3: 'Happy',\n",
    "    4: 'Sad',\n",
    "    5: 'Surprise',\n",
    "    6: 'Neutral'\n",
    "}\n",
    "\n",
    "num_classes = len(emotions)\n",
    "\n",
    "nb_train_samples = 28698\n",
    "nb_validation_samples = 3589"
   ]
  },
  {
   "cell_type": "code",
   "execution_count": 4,
   "metadata": {
    "ExecuteTime": {
     "end_time": "2017-10-13T12:12:03.030709Z",
     "start_time": "2017-10-13T12:12:03.024103Z"
    },
    "collapsed": true
   },
   "outputs": [],
   "source": [
    "def create_model():\n",
    "    # create model\n",
    "    model = Sequential()\n",
    "    \"\"\"\n",
    "    Add layers\n",
    "    \"\"\"\n",
    "    return model\n",
    "\n",
    "\n",
    "my_model = create_model()\n"
   ]
  },
  {
   "cell_type": "code",
   "execution_count": 5,
   "metadata": {
    "ExecuteTime": {
     "end_time": "2017-10-13T12:12:07.566758Z",
     "start_time": "2017-10-13T12:12:03.646267Z"
    }
   },
   "outputs": [
    {
     "name": "stdout",
     "output_type": "stream",
     "text": [
      "Found 28698 images belonging to 7 classes.\n",
      "Found 3589 images belonging to 7 classes.\n"
     ]
    }
   ],
   "source": [
    "\n",
    "train_datagen = ImageDataGenerator(\n",
    "    rescale=1. / 255, shear_range=0.2, zoom_range=0.2, horizontal_flip=True)\n",
    "\n",
    "# this is the augmentation configuration we will use for testing:\n",
    "# only rescaling\n",
    "\n",
    "test_datagen = ImageDataGenerator(rescale=1. / 255)\n",
    "\n",
    "\n",
    "train_feature = os.path.join(basedir, 'data', 'raw', 'Training')\n",
    "train_target = os.path.join(basedir, 'data', 'raw', 'Training')\n",
    "test_feature = os.path.join(basedir, 'data', 'raw', 'PrivateTest')\n",
    "\n",
    "# Folders need to exist\n",
    "train_processed_images = os.path.join(basedir, 'data', 'processed', 'Training')\n",
    "test_processed_images = os.path.join(basedir, 'data', 'processed',\n",
    "                                     'PrivateTest')\n",
    "\n",
    "# Use folders to get data and labels\n",
    "\n",
    "# Set the train_generatorand validation_generator to categorical and it will one-hot encode your classes.\n",
    "\n",
    "train_generator = train_datagen.flow_from_directory(\n",
    "    directory=train_feature,\n",
    "    color_mode='grayscale',\n",
    "    target_size=(img_width, img_height),\n",
    "    batch_size=batch_size,\n",
    "    class_mode='categorical',\n",
    "    save_to_dir=train_processed_images)\n",
    "\n",
    "validation_generator = test_datagen.flow_from_directory(\n",
    "    directory=test_feature,\n",
    "    color_mode='grayscale',\n",
    "    target_size=(img_width, img_height),\n",
    "    batch_size=batch_size,\n",
    "    class_mode='categorical',\n",
    "    save_to_dir=test_processed_images)\n",
    "\n"
   ]
  },
  {
   "cell_type": "code",
   "execution_count": 7,
   "metadata": {
    "ExecuteTime": {
     "end_time": "2017-10-13T12:12:17.542012Z",
     "start_time": "2017-10-13T12:12:17.536104Z"
    },
    "collapsed": true
   },
   "outputs": [],
   "source": [
    "\n",
    "filepath = \"weights-improvement-{epoch:02d}-{accuracy:.2f}.hdf5\"\n",
    "\n",
    "checkpoint = ModelCheckpoint(\n",
    "    filepath, monitor='val_acc', verbose=1, save_best_only=True, mode='max')\n",
    "callbacks_list = [tbCallBack]\n",
    "\n",
    "_loss = 'categorical_crossentropy'\n",
    "_optimizer = 'adam'\n",
    "\n",
    "\n",
    "my_model.compile(\n",
    "    loss=_loss, optimizer=_optimizer, metrics=['accuracy'])\n",
    "\n",
    "nn_history = my_model.fit_generator(\n",
    "    train_generator,\n",
    "    steps_per_epoch=nb_train_samples // batch_size,\n",
    "    epochs=epochs,\n",
    "    validation_data=validation_generator,\n",
    "    validation_steps=nb_validation_samples // batch_size,\n",
    "    callbacks=callbacks_list,\n",
    "    workers=4)"
   ]
  },
  {
   "cell_type": "code",
   "execution_count": null,
   "metadata": {
    "ExecuteTime": {
     "end_time": "2017-10-13T12:12:07.603529Z",
     "start_time": "2017-10-13T12:12:04.956Z"
    },
    "collapsed": true
   },
   "outputs": [],
   "source": [
    "my_model.save_weights('first_try.h5')"
   ]
  },
  {
   "cell_type": "code",
   "execution_count": null,
   "metadata": {
    "ExecuteTime": {
     "end_time": "2017-10-13T12:12:07.604357Z",
     "start_time": "2017-10-13T12:12:05.979Z"
    },
    "collapsed": true
   },
   "outputs": [],
   "source": [
    "# InvalidArgumentError: Negative dimension size caused by subtracting 5 from 1 for 'conv2d_1/convolution' (op: 'Conv2D') with input shapes: [?,1,48,48], [5,5,48,30].\n",
    "from keras.preprocessing.image import ImageDataGenerator, array_to_img, img_to_array, load_img\n",
    "\n",
    "# mode.predict\n",
    "img = load_img('../data/demo/1/_1_3492.png')\n",
    "img\n"
   ]
  },
  {
   "cell_type": "code",
   "execution_count": null,
   "metadata": {
    "ExecuteTime": {
     "end_time": "2017-10-13T12:12:07.606292Z",
     "start_time": "2017-10-13T12:12:07.207Z"
    },
    "collapsed": true
   },
   "outputs": [],
   "source": [
    "# !cp ../data/processed/PrivateTest/_1_3492.png .\n",
    "# !pwd\n",
    "demo_dir = '../data/demo/'\n",
    "\n",
    "demo_generator = test_datagen.flow_from_directory(\n",
    "    directory=demo_dir,\n",
    "    color_mode='grayscale',\n",
    "    target_size=(img_width, img_height),\n",
    "    batch_size=1,\n",
    "    class_mode='categorical',\n",
    "    save_to_dir=test_processed_images)\n",
    "\n",
    "predictions = my_model.predict_generator(demo_generator, steps=1)\n",
    "\n",
    "for i, prediction in zip(emotions, predictions[0]):\n",
    "    print('{emotion: <8} - {score:5.2f}%'.format(emotion=emotions[i], score=prediction*100))\n",
    "\n",
    "img"
   ]
  },
  {
   "cell_type": "code",
   "execution_count": null,
   "metadata": {
    "collapsed": true
   },
   "outputs": [],
   "source": []
  }
 ],
 "metadata": {
  "hide_input": false,
  "kernelspec": {
   "display_name": "Python 3",
   "language": "python",
   "name": "python3"
  },
  "language_info": {
   "codemirror_mode": {
    "name": "ipython",
    "version": 3
   },
   "file_extension": ".py",
   "mimetype": "text/x-python",
   "name": "python",
   "nbconvert_exporter": "python",
   "pygments_lexer": "ipython3",
   "version": "3.6.1"
  },
  "toc": {
   "colors": {
    "hover_highlight": "#DAA520",
    "running_highlight": "#FF0000",
    "selected_highlight": "#FFD700"
   },
   "moveMenuLeft": true,
   "nav_menu": {
    "height": "12px",
    "width": "252px"
   },
   "navigate_menu": true,
   "number_sections": true,
   "sideBar": true,
   "threshold": 4,
   "toc_cell": false,
   "toc_section_display": "block",
   "toc_window_display": false
  }
 },
 "nbformat": 4,
 "nbformat_minor": 2
}
