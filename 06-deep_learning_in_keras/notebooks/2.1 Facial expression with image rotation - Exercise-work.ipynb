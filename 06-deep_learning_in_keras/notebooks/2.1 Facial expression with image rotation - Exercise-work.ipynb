{
 "cells": [
  {
   "cell_type": "code",
   "execution_count": 1,
   "metadata": {
    "ExecuteTime": {
     "end_time": "2017-10-13T19:32:46.690351Z",
     "start_time": "2017-10-13T19:32:43.048698Z"
    },
    "run_control": {
     "frozen": false
    }
   },
   "outputs": [
    {
     "name": "stderr",
     "output_type": "stream",
     "text": [
      "Using TensorFlow backend.\n"
     ]
    }
   ],
   "source": [
    "from keras.preprocessing.image import ImageDataGenerator\n",
    "from keras.models import Sequential\n",
    "from tensorflow.contrib.layers import fully_connected, convolution2d, flatten, batch_norm, max_pool2d, dropout\n",
    "from keras.layers.convolutional import Convolution2D\n",
    "from keras.layers.convolutional import MaxPooling2D\n",
    "from keras.layers import Dense\n",
    "from keras.layers import Dropout\n",
    "from keras.layers import Flatten\n",
    "import keras\n",
    "import os\n",
    "from keras.callbacks import ModelCheckpoint, Callback, EarlyStopping, TensorBoard\n",
    "import tensorflow as tf\n",
    "\n",
    "basedir = './OSDBC_workshop' # was . '..'\n",
    "name = 'layer'\n",
    "logs = os.path.join('.', 'tensorboard_logs')\n",
    "\n",
    "# Fellows, Theano development stopped yesterday. RIP Theano! You are one of our first Deep Learning Toolkits!\n",
    "\n",
    "#tbCallBack = TensorBoard(\n",
    "#    log_dir=logs, histogram_freq=0, write_graph=True, write_images=True)\n",
    "img_width, img_height = 48, 48\n",
    "epochs = 10\n",
    "batch_size = 50\n",
    "# train_feature, train_target, validation_data=(test_feature, test_target)\n",
    "\n",
    "emotions = {\n",
    "    0: 'Angry',\n",
    "    1: 'Disgust',\n",
    "    2: 'Fear',\n",
    "    3: 'Happy',\n",
    "    4: 'Sad',\n",
    "    5: 'Surprise',\n",
    "    6: 'Neutral'\n",
    "}\n",
    "\n",
    "num_classes = len(emotions)\n",
    "\n",
    "nb_train_samples = 28698\n",
    "nb_validation_samples = 3589"
   ]
  },
  {
   "cell_type": "code",
   "execution_count": 2,
   "metadata": {
    "ExecuteTime": {
     "end_time": "2017-10-13T19:32:49.147864Z",
     "start_time": "2017-10-13T19:32:46.691419Z"
    },
    "run_control": {
     "frozen": false
    }
   },
   "outputs": [
    {
     "name": "stdout",
     "output_type": "stream",
     "text": [
      "Found 28698 images belonging to 7 classes.\n",
      "Found 3589 images belonging to 7 classes.\n"
     ]
    }
   ],
   "source": [
    "\n",
    "train_datagen = ImageDataGenerator(\n",
    "    rescale=1. / 255, shear_range=0.2, zoom_range=0.2, horizontal_flip=True)\n",
    "\n",
    "# this is the augmentation configuration we will use for testing:\n",
    "# only rescaling\n",
    "\n",
    "test_datagen = ImageDataGenerator(rescale=1. / 255)\n",
    "\n",
    "\n",
    "train_feature = os.path.join(basedir, 'data', 'raw', 'Training')\n",
    "train_target = os.path.join(basedir, 'data', 'raw', 'Training')\n",
    "test_feature = os.path.join(basedir, 'data', 'raw', 'PrivateTest')\n",
    "\n",
    "# Folders need to exist\n",
    "train_processed_images = os.path.join(basedir, 'data', 'processed', 'Training')\n",
    "test_processed_images = os.path.join(basedir, 'data', 'processed',\n",
    "                                     'PrivateTest')\n",
    "\n",
    "# Use folders to get data and labels\n",
    "\n",
    "# Set the train_generatorand validation_generator to categorical and it will one-hot encode your classes.\n",
    "\n",
    "train_generator = train_datagen.flow_from_directory(\n",
    "    directory=train_feature,\n",
    "    color_mode='grayscale',\n",
    "    target_size=(img_width, img_height),\n",
    "    batch_size=batch_size,\n",
    "    class_mode='categorical',\n",
    "    save_to_dir=train_processed_images)\n",
    "\n",
    "validation_generator = test_datagen.flow_from_directory(\n",
    "    directory=test_feature,\n",
    "    color_mode='grayscale',\n",
    "    target_size=(img_width, img_height),\n",
    "    batch_size=batch_size,\n",
    "    class_mode='categorical',\n",
    "    save_to_dir=test_processed_images)\n",
    "\n"
   ]
  },
  {
   "cell_type": "code",
   "execution_count": 7,
   "metadata": {
    "ExecuteTime": {
     "end_time": "2017-10-13T20:10:08.027539Z",
     "start_time": "2017-10-13T20:10:07.878412Z"
    },
    "collapsed": true,
    "run_control": {
     "frozen": false
    }
   },
   "outputs": [],
   "source": [
    "def create_model():\n",
    "    drop_rate = 0.0\n",
    "    \n",
    "    # create model\n",
    "    model = Sequential()\n",
    "    \"\"\"\n",
    "    Add layers\n",
    "    \"\"\"\n",
    "    model.add(Convolution2D(32, 5, padding='same', activation='relu', input_shape=(img_width,img_width,1)))\n",
    "    model.add(MaxPooling2D(padding='same'))\n",
    "    model.add(Dropout(drop_rate))\n",
    "    \n",
    "    model.add(Convolution2D(32, 5, padding='same', activation='relu'))\n",
    "    model.add(MaxPooling2D(padding='same'))\n",
    "    model.add(Dropout(drop_rate))\n",
    "\n",
    "    model.add(Convolution2D(32, 5, padding='same', activation='relu'))\n",
    "    model.add(MaxPooling2D(padding='same'))\n",
    "    model.add(Dropout(drop_rate))\n",
    "    \n",
    "    model.add(Flatten())\n",
    "    \n",
    "    model.add(Dense(32))\n",
    "    model.add(Dense(num_classes, activation='softmax'))\n",
    "    return model\n",
    "\n",
    "my_model = create_model()"
   ]
  },
  {
   "cell_type": "code",
   "execution_count": 8,
   "metadata": {
    "ExecuteTime": {
     "end_time": "2017-10-13T20:30:46.449745Z",
     "start_time": "2017-10-13T20:10:08.166723Z"
    },
    "run_control": {
     "frozen": false
    }
   },
   "outputs": [
    {
     "name": "stdout",
     "output_type": "stream",
     "text": [
      "Epoch 1/10\n",
      "573/573 [==============================] - 121s - loss: 1.6608 - acc: 0.3435 - val_loss: 1.5113 - val_acc: 0.4196\n",
      "Epoch 2/10\n",
      "573/573 [==============================] - 122s - loss: 1.4971 - acc: 0.4205 - val_loss: 1.4216 - val_acc: 0.4524\n",
      "Epoch 3/10\n",
      "573/573 [==============================] - 124s - loss: 1.4230 - acc: 0.4527 - val_loss: 1.3351 - val_acc: 0.4880\n",
      "Epoch 4/10\n",
      "573/573 [==============================] - 122s - loss: 1.3775 - acc: 0.4749 - val_loss: 1.3145 - val_acc: 0.4984\n",
      "Epoch 5/10\n",
      "573/573 [==============================] - 122s - loss: 1.3384 - acc: 0.4866 - val_loss: 1.2708 - val_acc: 0.5154\n",
      "Epoch 6/10\n",
      "573/573 [==============================] - 124s - loss: 1.3101 - acc: 0.4990 - val_loss: 1.2474 - val_acc: 0.5256\n",
      "Epoch 7/10\n",
      "573/573 [==============================] - 124s - loss: 1.2942 - acc: 0.5081 - val_loss: 1.2685 - val_acc: 0.5196\n",
      "Epoch 8/10\n",
      "573/573 [==============================] - 123s - loss: 1.2752 - acc: 0.5173 - val_loss: 1.2358 - val_acc: 0.5315\n",
      "Epoch 9/10\n",
      "573/573 [==============================] - 125s - loss: 1.2573 - acc: 0.5238 - val_loss: 1.2232 - val_acc: 0.5363\n",
      "Epoch 10/10\n",
      "573/573 [==============================] - 124s - loss: 1.2455 - acc: 0.5280 - val_loss: 1.2244 - val_acc: 0.5343\n"
     ]
    }
   ],
   "source": [
    "import time\n",
    "\n",
    "filepath = \"weights-improvement-{epoch:02d}-{accuracy:.2f}.hdf5\"\n",
    "\n",
    "checkpoint = ModelCheckpoint(\n",
    "    filepath, monitor='val_acc', verbose=1, save_best_only=True, mode='max')\n",
    "\n",
    "tbCallBack = TensorBoard(\n",
    "    log_dir=os.path.join('{}/{}'.format(logs, time.time())), histogram_freq=0, write_graph=True, write_images=True)\n",
    "\n",
    "callbacks_list = [tbCallBack]\n",
    "\n",
    "_loss = 'categorical_crossentropy'\n",
    "_optimizer = 'adam'\n",
    "\n",
    "\n",
    "my_model.compile(\n",
    "    loss=_loss, optimizer=_optimizer, metrics=['accuracy'])\n",
    "\n",
    "nn_history = my_model.fit_generator(\n",
    "    train_generator,\n",
    "    steps_per_epoch=nb_train_samples // batch_size,\n",
    "    epochs=epochs,\n",
    "    validation_data=validation_generator,\n",
    "    validation_steps=nb_validation_samples // batch_size,\n",
    "    callbacks=callbacks_list,\n",
    "    workers=4)"
   ]
  },
  {
   "cell_type": "code",
   "execution_count": 5,
   "metadata": {
    "ExecuteTime": {
     "end_time": "2017-10-13T19:56:20.673028Z",
     "start_time": "2017-10-13T19:56:20.635013Z"
    },
    "collapsed": true,
    "run_control": {
     "frozen": false
    }
   },
   "outputs": [],
   "source": [
    "my_model.save_weights('first_try.h5')"
   ]
  },
  {
   "cell_type": "code",
   "execution_count": 45,
   "metadata": {
    "ExecuteTime": {
     "end_time": "2017-10-13T20:42:01.770188Z",
     "start_time": "2017-10-13T20:42:01.501600Z"
    }
   },
   "outputs": [],
   "source": [
    "!mkdir OSDBC_workshop/data/demo/1\n",
    "!cp OSDBC_workshop/data/processed/PrivateTest/_1_3492.png OSDBC_workshop/data/demo/1/."
   ]
  },
  {
   "cell_type": "code",
   "execution_count": 46,
   "metadata": {
    "ExecuteTime": {
     "end_time": "2017-10-13T20:42:08.020980Z",
     "start_time": "2017-10-13T20:42:08.012585Z"
    },
    "run_control": {
     "frozen": false
    }
   },
   "outputs": [
    {
     "data": {
      "image/png": "[encoded data removed]",
      "text/plain": [
       "<PIL.Image.Image image mode=RGB size=48x48 at 0x130216358>"
      ]
     },
     "execution_count": 46,
     "metadata": {},
     "output_type": "execute_result"
    }
   ],
   "source": [
    "from keras.preprocessing.image import ImageDataGenerator, array_to_img, img_to_array, load_img\n",
    " \n",
    "# mode.predict\n",
    "img = load_img(os.path.join(basedir, 'data/demo/1/_1_3492.png'))\n",
    "img\n"
   ]
  },
  {
   "cell_type": "code",
   "execution_count": 47,
   "metadata": {
    "ExecuteTime": {
     "end_time": "2017-10-13T20:42:08.923469Z",
     "start_time": "2017-10-13T20:42:08.747287Z"
    },
    "run_control": {
     "frozen": false
    }
   },
   "outputs": [
    {
     "name": "stdout",
     "output_type": "stream",
     "text": [
      "Found 1 images belonging to 1 classes.\n",
      "Angry    -  0.09%\n",
      "Disgust  -  0.01%\n",
      "Fear     -  0.04%\n",
      "Happy    - 99.27%\n",
      "Sad      -  0.48%\n",
      "Surprise -  0.02%\n",
      "Neutral  -  0.09%\n"
     ]
    },
    {
     "data": {
      "image/png": "[encoded data removed]",
      "text/plain": [
       "<PIL.Image.Image image mode=RGB size=48x48 at 0x130216358>"
      ]
     },
     "execution_count": 47,
     "metadata": {},
     "output_type": "execute_result"
    }
   ],
   "source": [
    "# !cp ../data/processed/PrivateTest/_1_3492.png .\n",
    "# !pwd\n",
    "demo_dir = os.path.join(basedir, 'data/demo')\n",
    "\n",
    "demo_generator = test_datagen.flow_from_directory(\n",
    "    directory=demo_dir,\n",
    "    color_mode='grayscale',\n",
    "    target_size=(img_width, img_height),\n",
    "    batch_size=1,\n",
    "    class_mode='categorical',\n",
    "    save_to_dir=test_processed_images)\n",
    "\n",
    "predictions = my_model.predict_generator(demo_generator, steps=1)\n",
    "\n",
    "for i, prediction in zip(emotions, predictions[0]):\n",
    "    print('{emotion: <8} - {score:5.2f}%'.format(emotion=emotions[i], score=prediction*100))\n",
    "\n",
    "img"
   ]
  },
  {
   "cell_type": "code",
   "execution_count": null,
   "metadata": {
    "collapsed": true,
    "run_control": {
     "frozen": false
    }
   },
   "outputs": [],
   "source": []
  }
 ],
 "metadata": {
  "hide_input": false,
  "kernelspec": {
   "display_name": "Python 3",
   "language": "python",
   "name": "python3"
  },
  "language_info": {
   "codemirror_mode": {
    "name": "ipython",
    "version": 3
   },
   "file_extension": ".py",
   "mimetype": "text/x-python",
   "name": "python",
   "nbconvert_exporter": "python",
   "pygments_lexer": "ipython3",
   "version": "3.6.1"
  },
  "toc": {
   "colors": {
    "hover_highlight": "#DAA520",
    "running_highlight": "#FF0000",
    "selected_highlight": "#FFD700"
   },
   "moveMenuLeft": true,
   "nav_menu": {
    "height": "12px",
    "width": "252px"
   },
   "navigate_menu": true,
   "number_sections": true,
   "sideBar": true,
   "threshold": 4,
   "toc_cell": false,
   "toc_section_display": "block",
   "toc_window_display": false
  }
 },
 "nbformat": 4,
 "nbformat_minor": 2
}
